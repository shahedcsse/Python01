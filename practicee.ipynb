{
 "cells": [
  {
   "attachments": {},
   "cell_type": "markdown",
   "metadata": {},
   "source": [
    "if condition"
   ]
  },
  {
   "cell_type": "code",
   "execution_count": 5,
   "metadata": {},
   "outputs": [
    {
     "name": "stdout",
     "output_type": "stream",
     "text": [
      "a less \n"
     ]
    }
   ],
   "source": [
    "a=200\n",
    "b=323\n",
    "if a>b:\n",
    "    print(\"a gater then b\")\n",
    "else:\n",
    "    print(\"a less \")    "
   ]
  },
  {
   "cell_type": "code",
   "execution_count": 6,
   "metadata": {},
   "outputs": [
    {
     "name": "stdout",
     "output_type": "stream",
     "text": [
      "alessten\n"
     ]
    }
   ],
   "source": [
    "a=22\n",
    "b=443\n",
    "if a>b:\n",
    "    print(\"a gater then b\")\n",
    "elif a==b:\n",
    "    print(\"equile equile\")\n",
    "else:\n",
    "    print(\"alessten\")\n",
    "        "
   ]
  },
  {
   "cell_type": "code",
   "execution_count": 8,
   "metadata": {},
   "outputs": [
    {
     "name": "stdout",
     "output_type": "stream",
     "text": [
      "one  condition true\n"
     ]
    }
   ],
   "source": [
    "a=22\n",
    "b=43\n",
    "c=433\n",
    "if a>b and b<c:\n",
    "    print(\"both condition r true\")\n",
    "else:\n",
    "    print(\"one  condition true\")    "
   ]
  },
  {
   "cell_type": "code",
   "execution_count": 10,
   "metadata": {},
   "outputs": [
    {
     "name": "stdout",
     "output_type": "stream",
     "text": [
      "one condition r true\n"
     ]
    }
   ],
   "source": [
    "a=22\n",
    "b=43\n",
    "c=433\n",
    "if a>b or b<c:\n",
    "    print(\"one condition r true\")\n"
   ]
  },
  {
   "cell_type": "code",
   "execution_count": 11,
   "metadata": {},
   "outputs": [
    {
     "name": "stdout",
     "output_type": "stream",
     "text": [
      "a gater thern 23\n",
      "|ewdds\n"
     ]
    }
   ],
   "source": [
    "a=122\n",
    "if a>22:\n",
    "    print(\"a gater thern 23\")\n",
    "if a>3232:\n",
    "    print(\"a gater theerm 3232\")\n",
    "else:\n",
    "    print(\"|ewdds\")        "
   ]
  },
  {
   "cell_type": "code",
   "execution_count": 6,
   "metadata": {},
   "outputs": [
    {
     "name": "stdout",
     "output_type": "stream",
     "text": [
      "1\n",
      "2\n",
      "3\n",
      "4\n",
      "5\n",
      "6\n",
      "7\n",
      "8\n",
      "9\n",
      "10\n"
     ]
    }
   ],
   "source": [
    "i=1\n",
    "while i<=10:\n",
    "    print(i)\n",
    "    i+=1\n",
    "    "
   ]
  },
  {
   "cell_type": "code",
   "execution_count": 16,
   "metadata": {},
   "outputs": [
    {
     "name": "stdout",
     "output_type": "stream",
     "text": [
      "\n",
      "\n",
      "sum is  1\n",
      "\n",
      "\n",
      "sum is  2\n",
      "\n",
      "\n",
      "sum is  3\n",
      "\n",
      "\n",
      "sum is  4\n"
     ]
    }
   ],
   "source": [
    "s=0\n",
    "n=int(input(\"Enter the number:\"))\n",
    "\n",
    "for i in range (1,n+1):\n",
    "    s+=1\n",
    "    print(\"\\n\")\n",
    "    print(\"sum is \",s)"
   ]
  },
  {
   "cell_type": "code",
   "execution_count": 22,
   "metadata": {},
   "outputs": [
    {
     "name": "stdout",
     "output_type": "stream",
     "text": [
      "2\n",
      "4\n",
      "6\n",
      "8\n",
      "10\n",
      "12\n",
      "14\n",
      "16\n",
      "18\n",
      "20\n"
     ]
    }
   ],
   "source": [
    "n =2\n",
    "for i in range(1,11):\n",
    "    product = n*i\n",
    "    print(product)"
   ]
  },
  {
   "cell_type": "code",
   "execution_count": 25,
   "metadata": {},
   "outputs": [
    {
     "name": "stdout",
     "output_type": "stream",
     "text": [
      "150\n",
      "145\n"
     ]
    }
   ],
   "source": [
    "number=[12,23,150,280,145,528,50]\n",
    "for item in number:\n",
    "    if item> 500:\n",
    "        break\n",
    "    elif item>150:\n",
    "        continue\n",
    "    elif item % 5== 0:\n",
    "        print(item)\n"
   ]
  },
  {
   "cell_type": "code",
   "execution_count": 26,
   "metadata": {},
   "outputs": [
    {
     "name": "stdout",
     "output_type": "stream",
     "text": [
      "inside loop 4\n",
      "inside loop 3\n",
      "inside loop 1\n",
      "inside loop 0\n",
      "inside else\n"
     ]
    }
   ],
   "source": [
    "i=5\n",
    "while i>0:\n",
    "    i=i-1\n",
    "    if i==2:\n",
    "         continue\n",
    "    print(\"inside loop\",i)\n",
    "else:\n",
    "     print(\"inside else\")    \n",
    "\n",
    "   \n"
   ]
  }
 ],
 "metadata": {
  "kernelspec": {
   "display_name": "Python 3",
   "language": "python",
   "name": "python3"
  },
  "language_info": {
   "codemirror_mode": {
    "name": "ipython",
    "version": 3
   },
   "file_extension": ".py",
   "mimetype": "text/x-python",
   "name": "python",
   "nbconvert_exporter": "python",
   "pygments_lexer": "ipython3",
   "version": "3.11.1"
  },
  "orig_nbformat": 4
 },
 "nbformat": 4,
 "nbformat_minor": 2
}
