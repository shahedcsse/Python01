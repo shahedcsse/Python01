{
 "cells": [
  {
   "cell_type": "code",
   "execution_count": null,
   "metadata": {},
   "outputs": [],
   "source": [
    "Variable code"
   ]
  },
  {
   "cell_type": "code",
   "execution_count": 3,
   "metadata": {},
   "outputs": [
    {
     "name": "stdout",
     "output_type": "stream",
     "text": [
      "4\n",
      "3\n",
      "4\n",
      "stry\n",
      "<class 'int'>\n",
      "<class 'str'>\n",
      "<class 'float'>\n"
     ]
    }
   ],
   "source": [
    "a=4\n",
    "b=3\n",
    "print(a)\n",
    "print(b)\n",
    "\n",
    "c=4\n",
    "d=\"stry\"\n",
    "print(c)\n",
    "print(d)\n",
    "\n",
    "#whate type of value \n",
    "\n",
    "A=2\n",
    "B=\"shsg\"\n",
    "C=3.44\n",
    "\n",
    "print(type(A))\n",
    "print(type(B))\n",
    "print(type(C))"
   ]
  },
  {
   "cell_type": "code",
   "execution_count": 5,
   "metadata": {},
   "outputs": [
    {
     "name": "stdout",
     "output_type": "stream",
     "text": [
      "banana \n",
      "mango\n",
      "lici\n",
      "orannge\n",
      "orannge\n",
      "orannge\n"
     ]
    }
   ],
   "source": [
    "#variable assinemultipal value \n",
    "x,y,z=\"banana \" ,\"mango\",\"lici\"\n",
    "print (x)\n",
    "print (y)\n",
    "print (z)\n",
    "#assin multipul value same line\n",
    "X=Y=Z=\"orannge\"\n",
    "print(X)\n",
    "print(Y)\n",
    "print(Z)"
   ]
  },
  {
   "cell_type": "code",
   "execution_count": 14,
   "metadata": {},
   "outputs": [
    {
     "name": "stdout",
     "output_type": "stream",
     "text": [
      "8\n",
      "strrtryyyuy\n"
     ]
    }
   ],
   "source": [
    "x=2\n",
    "v=3\n",
    "c=3\n",
    "print(x + v + c)\n",
    "\n",
    "#string one line\n",
    "\"\"\"s=\"str\"\n",
    "h=\"rtry\"\n",
    "i=\"yyuy\"\n",
    "print(s,h,i)\"\"\"\n",
    "#string ad to + operator\n",
    "s=\"str\"\n",
    "h=\"rtry\"\n",
    "i=\"yyuy\"\n",
    "print( s + h + i)\n"
   ]
  },
  {
   "cell_type": "code",
   "execution_count": 15,
   "metadata": {},
   "outputs": [
    {
     "name": "stdout",
     "output_type": "stream",
     "text": [
      "this is string : shahed hsana\n"
     ]
    }
   ],
   "source": [
    "#function  declaration\n",
    "j=\"shahed hsana\"\n",
    "\n",
    "def myfunc():\n",
    "    print(\"this is string :\",j)\n",
    "myfunc()    "
   ]
  },
  {
   "cell_type": "code",
   "execution_count": 32,
   "metadata": {},
   "outputs": [
    {
     "name": "stdout",
     "output_type": "stream",
     "text": [
      "11\n"
     ]
    }
   ],
   "source": [
    "#random number \n",
    "\n",
    "import random\n",
    "print (random.randrange(1,12))"
   ]
  },
  {
   "cell_type": "code",
   "execution_count": 36,
   "metadata": {},
   "outputs": [
    {
     "name": "stdout",
     "output_type": "stream",
     "text": [
      "e\n",
      "13\n"
     ]
    }
   ],
   "source": [
    "#String f\n",
    "\n",
    "z= \"hello, banana\"\n",
    "print(z[1])\n",
    "print(len(z))"
   ]
  },
  {
   "cell_type": "code",
   "execution_count": 39,
   "metadata": {},
   "outputs": [
    {
     "name": "stdout",
     "output_type": "stream",
     "text": [
      "llo ,world,in\n",
      "llo ,wor\n",
      "lo,o\n"
     ]
    }
   ],
   "source": [
    "#string sclicing \n",
    "b= \"hello ,world,in\"\n",
    "print(b[2:])\n",
    "print(b[2:10])\n",
    "print(b[2:10:2])\n"
   ]
  },
  {
   "cell_type": "code",
   "execution_count": 49,
   "metadata": {},
   "outputs": [
    {
     "name": "stdout",
     "output_type": "stream",
     "text": [
      "lowr\n"
     ]
    }
   ],
   "source": [
    "#Negative string slicing \n",
    "c=\"hello,world,ind\"\n",
    "print(c[-13:-6:2])"
   ]
  },
  {
   "cell_type": "code",
   "execution_count": 51,
   "metadata": {},
   "outputs": [
    {
     "name": "stdout",
     "output_type": "stream",
     "text": [
      "HELLO WORLD\n",
      "hello world\n"
     ]
    }
   ],
   "source": [
    "#modify string \n",
    "b=\"hello world\"\n",
    "c=\"right now\"\n",
    "print (b.upper())\n",
    "print(b.lower())\n",
    "print()"
   ]
  }
 ],
 "metadata": {
  "kernelspec": {
   "display_name": "Python 3",
   "language": "python",
   "name": "python3"
  },
  "language_info": {
   "codemirror_mode": {
    "name": "ipython",
    "version": 3
   },
   "file_extension": ".py",
   "mimetype": "text/x-python",
   "name": "python",
   "nbconvert_exporter": "python",
   "pygments_lexer": "ipython3",
   "version": "3.11.1"
  },
  "orig_nbformat": 4
 },
 "nbformat": 4,
 "nbformat_minor": 2
}
