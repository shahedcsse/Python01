{
 "cells": [
  {
   "cell_type": "code",
   "execution_count": null,
   "metadata": {},
   "outputs": [],
   "source": [
    "Variable code"
   ]
  },
  {
   "cell_type": "code",
   "execution_count": 3,
   "metadata": {},
   "outputs": [
    {
     "name": "stdout",
     "output_type": "stream",
     "text": [
      "4\n",
      "3\n",
      "4\n",
      "stry\n",
      "<class 'int'>\n",
      "<class 'str'>\n",
      "<class 'float'>\n"
     ]
    }
   ],
   "source": [
    "a=4\n",
    "b=3\n",
    "print(a)\n",
    "print(b)\n",
    "\n",
    "c=4\n",
    "d=\"stry\"\n",
    "print(c)\n",
    "print(d)\n",
    "\n",
    "#whate type of value \n",
    "\n",
    "A=2\n",
    "B=\"shsg\"\n",
    "C=3.44\n",
    "\n",
    "print(type(A))\n",
    "print(type(B))\n",
    "print(type(C))"
   ]
  },
  {
   "cell_type": "code",
   "execution_count": 5,
   "metadata": {},
   "outputs": [
    {
     "name": "stdout",
     "output_type": "stream",
     "text": [
      "banana \n",
      "mango\n",
      "lici\n",
      "orannge\n",
      "orannge\n",
      "orannge\n"
     ]
    }
   ],
   "source": [
    "#variable assinemultipal value \n",
    "x,y,z=\"banana \" ,\"mango\",\"lici\"\n",
    "print (x)\n",
    "print (y)\n",
    "print (z)\n",
    "#assin multipul value same line\n",
    "X=Y=Z=\"orannge\"\n",
    "print(X)\n",
    "print(Y)\n",
    "print(Z)"
   ]
  },
  {
   "cell_type": "code",
   "execution_count": 14,
   "metadata": {},
   "outputs": [
    {
     "name": "stdout",
     "output_type": "stream",
     "text": [
      "8\n",
      "strrtryyyuy\n"
     ]
    }
   ],
   "source": [
    "x=2\n",
    "v=3\n",
    "c=3\n",
    "print(x + v + c)\n",
    "\n",
    "#string one line\n",
    "\"\"\"s=\"str\"\n",
    "h=\"rtry\"\n",
    "i=\"yyuy\"\n",
    "print(s,h,i)\"\"\"\n",
    "#string ad to + operator\n",
    "s=\"str\"\n",
    "h=\"rtry\"\n",
    "i=\"yyuy\"\n",
    "print( s + h + i)\n"
   ]
  },
  {
   "cell_type": "code",
   "execution_count": 15,
   "metadata": {},
   "outputs": [
    {
     "name": "stdout",
     "output_type": "stream",
     "text": [
      "this is string : shahed hsana\n"
     ]
    }
   ],
   "source": [
    "#function  declaration\n",
    "j=\"shahed hsana\"\n",
    "\n",
    "def myfunc():\n",
    "    print(\"this is string :\",j)\n",
    "myfunc()    "
   ]
  },
  {
   "cell_type": "code",
   "execution_count": 32,
   "metadata": {},
   "outputs": [
    {
     "name": "stdout",
     "output_type": "stream",
     "text": [
      "11\n"
     ]
    }
   ],
   "source": [
    "#random number \n",
    "\n",
    "import random\n",
    "print (random.randrange(1,12))"
   ]
  },
  {
   "cell_type": "code",
   "execution_count": 36,
   "metadata": {},
   "outputs": [
    {
     "name": "stdout",
     "output_type": "stream",
     "text": [
      "e\n",
      "13\n"
     ]
    }
   ],
   "source": [
    "#String f\n",
    "\n",
    "z= \"hello, banana\"\n",
    "print(z[1])\n",
    "print(len(z))"
   ]
  },
  {
   "cell_type": "code",
   "execution_count": 39,
   "metadata": {},
   "outputs": [
    {
     "name": "stdout",
     "output_type": "stream",
     "text": [
      "llo ,world,in\n",
      "llo ,wor\n",
      "lo,o\n"
     ]
    }
   ],
   "source": [
    "#string sclicing \n",
    "b= \"hello ,world,in\"\n",
    "print(b[2:])\n",
    "print(b[2:10])\n",
    "print(b[2:10:2])\n"
   ]
  },
  {
   "cell_type": "code",
   "execution_count": 49,
   "metadata": {},
   "outputs": [
    {
     "name": "stdout",
     "output_type": "stream",
     "text": [
      "lowr\n"
     ]
    }
   ],
   "source": [
    "#Negative string slicing \n",
    "c=\"hello,world,ind\"\n",
    "print(c[-13:-6:2])"
   ]
  },
  {
   "cell_type": "code",
   "execution_count": 51,
   "metadata": {},
   "outputs": [
    {
     "name": "stdout",
     "output_type": "stream",
     "text": [
      "HELLO WORLD\n",
      "hello world\n"
     ]
    }
   ],
   "source": [
    "#modify string \n",
    "b=\"hello world\"\n",
    "c=\"right now\"\n",
    "print (b.upper())\n",
    "print(b.lower())\n",
    "print()"
   ]
  },
  {
   "cell_type": "code",
   "execution_count": 53,
   "metadata": {},
   "outputs": [
    {
     "name": "stdout",
     "output_type": "stream",
     "text": [
      "['hello ', 'world']\n",
      "['shahed ', 'hasan']\n"
     ]
    }
   ],
   "source": [
    "#splite ()\n",
    "a=\"hello ,world\"\n",
    "b=\"shahed ,hasan\"\n",
    "print (a.split(\",\"))\n",
    "print(b.split(\",\"))"
   ]
  },
  {
   "cell_type": "code",
   "execution_count": 1,
   "metadata": {},
   "outputs": [
    {
     "name": "stdout",
     "output_type": "stream",
     "text": [
      "['charri', 'lici', 'pinapple']\n"
     ]
    }
   ],
   "source": [
    "#list\n",
    "#acces list\n",
    "a= [\"apple\",\"banana\",\"charri\",\"lici\",\"pinapple\"]\n",
    "print(a[2:])\n",
    " "
   ]
  },
  {
   "cell_type": "code",
   "execution_count": 2,
   "metadata": {},
   "outputs": [
    {
     "name": "stdout",
     "output_type": "stream",
     "text": [
      "['apple', 'banana']\n"
     ]
    }
   ],
   "source": [
    "a= [\"apple\",\"banana\",\"charri\",\"lici\",\"pinapple\"]\n",
    "print(a[:2])"
   ]
  },
  {
   "cell_type": "code",
   "execution_count": 9,
   "metadata": {},
   "outputs": [
    {
     "name": "stdout",
     "output_type": "stream",
     "text": [
      "['charri', 'lici']\n"
     ]
    }
   ],
   "source": [
    "a= [\"apple\",\"banana\",\"charri\",\"lici\",\"pinapple\"]\n",
    "print(a[-3:-1])"
   ]
  },
  {
   "cell_type": "code",
   "execution_count": 1,
   "metadata": {},
   "outputs": [
    {
     "name": "stdout",
     "output_type": "stream",
     "text": [
      "['apple', 'shaheed', 'hasan', 'lici', 'pinapple']\n"
     ]
    }
   ],
   "source": [
    "#change of list item\n",
    "a= [\"apple\",\"banana\",\"charri\",\"lici\",\"pinapple\"]\n",
    "a[1:3]= [\"shaheed\",\"hasan\"]\n",
    "print(a)"
   ]
  },
  {
   "cell_type": "code",
   "execution_count": 2,
   "metadata": {},
   "outputs": [
    {
     "name": "stdout",
     "output_type": "stream",
     "text": [
      "['apple', 'shaheed', 'lici', 'pinapple']\n"
     ]
    }
   ],
   "source": [
    "\n",
    "a= [\"apple\",\"banana\",\"charri\",\"lici\",\"pinapple\"]\n",
    "a[1:3]= [\"shaheed\"]\n",
    "print(a)"
   ]
  },
  {
   "cell_type": "code",
   "execution_count": 5,
   "metadata": {},
   "outputs": [
    {
     "name": "stdout",
     "output_type": "stream",
     "text": [
      "['apple', 'hsaa', 'banana', 'charri', 'lici', 'pinapple']\n"
     ]
    }
   ],
   "source": [
    "#insert the list\n",
    "a= [\"apple\",\"banana\",\"charri\",\"lici\",\"pinapple\"]\n",
    "a.insert(1,\"hsaa\")\n",
    "print(a)"
   ]
  },
  {
   "cell_type": "code",
   "execution_count": 8,
   "metadata": {},
   "outputs": [
    {
     "name": "stdout",
     "output_type": "stream",
     "text": [
      "['apple', 'banana', 'charri', 'chowdhury', 'lici', 'pinapple']\n"
     ]
    }
   ],
   "source": [
    "a= [\"apple\",\"banana\",\"charri\",\"lici\",\"pinapple\"]\n",
    "a.insert(3,\"chowdhury\")\n",
    "print(a)"
   ]
  },
  {
   "cell_type": "code",
   "execution_count": 10,
   "metadata": {},
   "outputs": [
    {
     "name": "stdout",
     "output_type": "stream",
     "text": [
      "['apple', 'banana', 'jackfrout', 'charri', 'lici', 'pinapple', 'mango']\n"
     ]
    }
   ],
   "source": [
    "#append  list\n",
    "a= [\"apple\",\"banana\",\"charri\",\"lici\",\"pinapple\"]\n",
    "a.append (\"mango\")\n",
    "a.insert(2,\"jackfrout\")\n",
    "print(a)"
   ]
  },
  {
   "cell_type": "code",
   "execution_count": 15,
   "metadata": {},
   "outputs": [
    {
     "name": "stdout",
     "output_type": "stream",
     "text": [
      "['apple', 'banana', 'charri', 'lici', 'pinapple', 'hello', 'call', 'jak']\n"
     ]
    }
   ],
   "source": [
    "#Extend list\n",
    "\n",
    "a= [\"apple\",\"banana\",\"charri\",\"lici\",\"pinapple\"]\n",
    "b=[\"hello\",\"call\",\"jak\"]\n",
    "a.extend(b)\n",
    "print(a)"
   ]
  },
  {
   "cell_type": "code",
   "execution_count": 1,
   "metadata": {},
   "outputs": [
    {
     "name": "stdout",
     "output_type": "stream",
     "text": [
      "['apple', 'banana', 'charri', 'pinapple']\n"
     ]
    }
   ],
   "source": [
    "# remove item\n",
    "\n",
    "a= [\"apple\",\"banana\",\"charri\",\"lici\",\"pinapple\"]\n",
    "a.remove(\"lici\")\n",
    "print (a)\n"
   ]
  },
  {
   "cell_type": "code",
   "execution_count": 2,
   "metadata": {},
   "outputs": [
    {
     "name": "stdout",
     "output_type": "stream",
     "text": [
      "['apple', 'banana', 'lici', 'pinapple']\n"
     ]
    }
   ],
   "source": [
    "#remove value pop \n",
    "a= [\"apple\",\"banana\",\"charri\",\"lici\",\"pinapple\"]\n",
    "a.pop(2)\n",
    "print (a)"
   ]
  },
  {
   "cell_type": "code",
   "execution_count": 2,
   "metadata": {},
   "outputs": [
    {
     "name": "stdout",
     "output_type": "stream",
     "text": [
      "{'name': 'shahed', 'id': 1212, 'sele': 'hakim'}\n"
     ]
    }
   ],
   "source": [
    "#Dictinary\n",
    "\n",
    "a={\"name\":\"shahed\",\"id\":1212,\"sele\":\"hakim\"}\n",
    "print(a)\n"
   ]
  },
  {
   "cell_type": "code",
   "execution_count": 2,
   "metadata": {},
   "outputs": [
    {
     "ename": "SyntaxError",
     "evalue": "cannot assign to literal (712565209.py, line 3)",
     "output_type": "error",
     "traceback": [
      "\u001b[1;36m  Cell \u001b[1;32mIn[2], line 3\u001b[1;36m\u001b[0m\n\u001b[1;33m    a=[\"name\"]=\"hassn\"\u001b[0m\n\u001b[1;37m       ^\u001b[0m\n\u001b[1;31mSyntaxError\u001b[0m\u001b[1;31m:\u001b[0m cannot assign to literal\n"
     ]
    }
   ],
   "source": [
    "#bhange dictinary\n",
    "a={\"name\":\"shahed\",\"id\":1212,\"sele\":\"hakim\"}\n",
    "a= [\"name\"] =\"hassn\"\n",
    "prinnt(a)"
   ]
  },
  {
   "cell_type": "code",
   "execution_count": 4,
   "metadata": {},
   "outputs": [
    {
     "name": "stdout",
     "output_type": "stream",
     "text": [
      "{'name': 'shahed', 'add': 'aowli', 'phn': 0}\n"
     ]
    }
   ],
   "source": [
    "#update vale\n",
    "cell ={\n",
    "    \"name\":\"shahed\",\n",
    "    \"add\":\"aowli\",\n",
    "    \"phn\":90977,\n",
    "}\n",
    "cell.update({\"phn\":0000})\n",
    "print(cell)"
   ]
  },
  {
   "cell_type": "code",
   "execution_count": 5,
   "metadata": {},
   "outputs": [
    {
     "name": "stdout",
     "output_type": "stream",
     "text": [
      "{'brand': 'Ford', 'model': 'Mustang', 'year': 1964, 'color': 'red'}\n"
     ]
    }
   ],
   "source": [
    "#Addd item\n",
    "thisdict = {\n",
    "  \"brand\": \"Ford\",\n",
    "  \"model\": \"Mustang\",\n",
    "  \"year\": 1964\n",
    "}\n",
    "thisdict[\"color\"]= \"red\"\n",
    "print(thisdict)"
   ]
  },
  {
   "cell_type": "code",
   "execution_count": 6,
   "metadata": {},
   "outputs": [
    {
     "name": "stdout",
     "output_type": "stream",
     "text": [
      "{'brand': 'Ford', 'model': 'Mustang', 'year': 1964, 'color': 'red'}\n"
     ]
    }
   ],
   "source": [
    "#update dic \n",
    "thisdict = {\n",
    "  \"brand\": \"Ford\",\n",
    "  \"model\": \"Mustang\",\n",
    "  \"year\": 1964\n",
    "}\n",
    "thisdict.update({\"color\" :\"red\"})\n",
    "print(thisdict)"
   ]
  },
  {
   "cell_type": "code",
   "execution_count": 7,
   "metadata": {},
   "outputs": [
    {
     "name": "stdout",
     "output_type": "stream",
     "text": [
      "{'brand': 'Ford', 'year': 1964}\n"
     ]
    }
   ],
   "source": [
    "#romove the item\n",
    "\n",
    "thisdict = {\n",
    "  \"brand\": \"Ford\",\n",
    "  \"model\": \"Mustang\",\n",
    "  \"year\": 1964\n",
    "}\n",
    "thisdict.pop(\"model\")\n",
    "print(thisdict)"
   ]
  },
  {
   "cell_type": "code",
   "execution_count": 10,
   "metadata": {},
   "outputs": [
    {
     "name": "stdout",
     "output_type": "stream",
     "text": [
      "{'brand': 'Ford', 'model': 'Mustang'}\n",
      "{'brand': 'Ford', 'year': 1964}\n",
      "{}\n"
     ]
    }
   ],
   "source": [
    "#removed last item\n",
    "thisdict = {\n",
    "  \"brand\": \"Ford\",\n",
    "  \"model\": \"Mustang\",\n",
    "  \"year\": 1964\n",
    "}\n",
    "thisdict.popitem()\n",
    "print(thisdict)\n",
    "\n",
    "#del key word using \n",
    "\n",
    "thisdict = {\n",
    "  \"brand\": \"Ford\",\n",
    "  \"model\": \"Mustang\",\n",
    "  \"year\": 1964\n",
    "}\n",
    "del thisdict[\"model\"]\n",
    "print(thisdict)\n",
    "\n",
    "#dictinary clear\n",
    "thisdict = {\n",
    "  \"brand\": \"Ford\",\n",
    "  \"model\": \"Mustang\",\n",
    "  \"year\": 1964\n",
    "}\n",
    "thisdict.clear()\n",
    "print(thisdict)"
   ]
  },
  {
   "cell_type": "code",
   "execution_count": 12,
   "metadata": {},
   "outputs": [
    {
     "ename": "ModuleNotFoundError",
     "evalue": "No module named 'thisdict'",
     "output_type": "error",
     "traceback": [
      "\u001b[1;31m---------------------------------------------------------------------------\u001b[0m",
      "\u001b[1;31mModuleNotFoundError\u001b[0m                       Traceback (most recent call last)",
      "Cell \u001b[1;32mIn[12], line 2\u001b[0m\n\u001b[0;32m      1\u001b[0m \u001b[39m#LOop dectionary \u001b[39;00m\n\u001b[1;32m----> 2\u001b[0m \u001b[39mimport\u001b[39;00m \u001b[39mthisdict\u001b[39;00m\n\u001b[0;32m      3\u001b[0m \u001b[39mfor\u001b[39;00m x \u001b[39min\u001b[39;00m thisdict:\n\u001b[0;32m      4\u001b[0m     \u001b[39mprint\u001b[39m(thisdict)\n",
      "\u001b[1;31mModuleNotFoundError\u001b[0m: No module named 'thisdict'"
     ]
    }
   ],
   "source": [
    "#LOop dectionary \n",
    "import thisdict\n",
    "for x in thisdict:\n",
    "    print(thisdict)"
   ]
  },
  {
   "cell_type": "code",
   "execution_count": 17,
   "metadata": {},
   "outputs": [
    {
     "name": "stdout",
     "output_type": "stream",
     "text": [
      "{'brand': 'Ford', 'model': 'Mustang', 'year': 1964, 'id': 12}\n",
      "{'brand': 'Ford', 'model': 'Mustang', 'year': 1964}\n"
     ]
    }
   ],
   "source": [
    "#copy dictionary\n",
    "thisdict = {\n",
    "  \"brand\": \"Ford\",\n",
    "  \"model\": \"Mustang\",\n",
    "  \"year\": 1964,\n",
    "  \"id\":12\n",
    "}\n",
    "mydict=thisdict.copy()\n",
    "print(mydict)\n",
    "\n",
    "#anader away  dict copy\n",
    "\n",
    "thisdict = {\n",
    "  \"brand\": \"Ford\",\n",
    "  \"model\": \"Mustang\",\n",
    "  \"year\": 1964\n",
    "}\n",
    "otdict=dict(thisdict)\n",
    "print(otdict)"
   ]
  },
  {
   "cell_type": "code",
   "execution_count": 23,
   "metadata": {},
   "outputs": [
    {
     "name": "stdout",
     "output_type": "stream",
     "text": [
      "false\n",
      "true\n",
      "false\n"
     ]
    }
   ],
   "source": [
    "# if  else\n",
    "\n",
    "a=20\n",
    "b=32\n",
    "if a==b:\n",
    "    print (\"true\")\n",
    "else:\n",
    "    print(\"false\")    \n",
    "\n",
    "    #not equal condtion\n",
    "\n",
    "a=20\n",
    "b=32\n",
    "if a!=b:\n",
    "    print(\"true\")\n",
    "else:\n",
    "    print(\"false\")    \n",
    "\n",
    "#Gater ten condition\n",
    "a=20\n",
    "b=32\n",
    "\n",
    "if a>b:\n",
    "    print(\"true\")\n",
    "else:    \n",
    "    print(\"false\")\n",
    "\n",
    "    "
   ]
  },
  {
   "cell_type": "code",
   "execution_count": 25,
   "metadata": {},
   "outputs": [
    {
     "name": "stdout",
     "output_type": "stream",
     "text": [
      "a less than b\n"
     ]
    }
   ],
   "source": [
    "#elif condition\n",
    "a=20\n",
    "b=32\n",
    "\n",
    "if a>b:\n",
    "    print(\"a gater than b\")\n",
    "elif a==b:\n",
    "    print(\"a eqal eqal b\")\n",
    "else:\n",
    "    print(\"a less than b\")\n",
    "\n",
    "    "
   ]
  },
  {
   "cell_type": "code",
   "execution_count": 31,
   "metadata": {},
   "outputs": [
    {
     "name": "stdout",
     "output_type": "stream",
     "text": [
      "2\n",
      "3\n",
      "4\n",
      "5\n",
      "1\n",
      "2\n",
      "3\n",
      "4\n",
      "5\n"
     ]
    }
   ],
   "source": [
    "#while condition\n",
    "i=1\n",
    "while i<5:\n",
    "    i+=1\n",
    "    print(i)\n",
    "\n",
    "\n",
    "j=0\n",
    "while  j<5:\n",
    "    j+=1\n",
    "    print(j)   \n"
   ]
  },
  {
   "cell_type": "code",
   "execution_count": 33,
   "metadata": {},
   "outputs": [
    {
     "name": "stdout",
     "output_type": "stream",
     "text": [
      "1\n",
      "2\n",
      "3\n",
      "4\n"
     ]
    }
   ],
   "source": [
    "#while condition\n",
    "i=1\n",
    "while i<6:\n",
    "    print(i)\n",
    "    if i==4:\n",
    "        break\n",
    "    i+=1    \n"
   ]
  },
  {
   "cell_type": "code",
   "execution_count": 2,
   "metadata": {},
   "outputs": [
    {
     "name": "stdout",
     "output_type": "stream",
     "text": [
      "hello function\n"
     ]
    }
   ],
   "source": [
    "#function key\n",
    "def myfun():\n",
    "    print(\"hello function\")\n",
    "myfun()"
   ]
  }
 ],
 "metadata": {
  "kernelspec": {
   "display_name": "Python 3",
   "language": "python",
   "name": "python3"
  },
  "language_info": {
   "codemirror_mode": {
    "name": "ipython",
    "version": 3
   },
   "file_extension": ".py",
   "mimetype": "text/x-python",
   "name": "python",
   "nbconvert_exporter": "python",
   "pygments_lexer": "ipython3",
   "version": "3.11.1"
  },
  "orig_nbformat": 4
 },
 "nbformat": 4,
 "nbformat_minor": 2
}
